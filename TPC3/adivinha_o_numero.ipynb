{
 "cells": [
  {
   "cell_type": "markdown",
   "id": "1e545158",
   "metadata": {},
   "source": [
    "# Aula Prática 2 (guião)\n",
    "### Semana de 26 a 30 de Setembro de 2022\n",
    "### José Carlos Ramalho e Luís Cunha\n",
    "### Sinopsis:\n",
    "Algoritmos de cálculo numérico envolvendo estruturas condicionais (if-elif-else) e cíclicas (while)."
   ]
  },
  {
   "cell_type": "markdown",
   "id": "e38d18c4-d7d7-4fea-9bc6-e3f3c903386b",
   "metadata": {},
   "source": [
    "### Exercício 1: Soma de N números\n",
    "- Leia um número N;\n",
    "- Leia N números;\n",
    "- Imprima a soma dos N números."
   ]
  },
  {
   "cell_type": "code",
   "execution_count": 2,
   "id": "af973146-3bb4-4fa8-ba6c-b887b79ccff8",
   "metadata": {},
   "outputs": [
    {
     "name": "stdout",
     "output_type": "stream",
     "text": [
      "22\n"
     ]
    }
   ],
   "source": [
    "# Solução do exercício 1\n",
    "n = int(input(\"insira um número\"))\n",
    "soma = 0\n",
    "\n",
    "if n > 0:\n",
    "    num = int(input(\"insira um número\"))\n",
    "    soma = n + num \n",
    "\n",
    "n = n - 1\n",
    "print(soma)\n"
   ]
  },
  {
   "cell_type": "markdown",
   "id": "13b62657",
   "metadata": {},
   "source": [
    "### Exercício 1.5: Números pares\n",
    "- Leia um número N;\n",
    "- Leia N números;\n",
    "- Imprima os números pares na saída."
   ]
  },
  {
   "cell_type": "code",
   "execution_count": 22,
   "id": "7be00d81",
   "metadata": {},
   "outputs": [
    {
     "name": "stdout",
     "output_type": "stream",
     "text": [
      "4\n"
     ]
    }
   ],
   "source": [
    "n = int(input(\"insira um número\"))\n",
    "par = 0 \n",
    "\n",
    "if n % 2 == 0:\n",
    "    print(n)   \n",
    "\n",
    "n= n - 1 \n",
    "\n",
    "\n",
    "     "
   ]
  },
  {
   "cell_type": "markdown",
   "id": "bdcbffb0",
   "metadata": {},
   "source": [
    "### Exercício 2: O Maior de N números\n",
    "- Leia um número N;\n",
    "- Leia N números;\n",
    "- Imprima o maior dos N números."
   ]
  },
  {
   "cell_type": "code",
   "execution_count": 2,
   "id": "af973146-3bb4-4fa8-ba6c-b887b79ccff8",
   "metadata": {},
   "outputs": [
    {
     "name": "stdout",
     "output_type": "stream",
     "text": [
      "8\n",
      "9\n",
      "20\n",
      "90\n",
      "90\n",
      "90\n"
     ]
    }
   ],
   "source": [
    "# Solução do exercício 2\n",
    "n = int(input(\"insira um número\"))\n",
    "pos = 1 \n",
    "maior = 1 \n",
    "while n > 0:\n",
    "    k = int(input(\"introduza um número (\" + str(pos) + \") entre 1 e 1000:\"))\n",
    "    if k > maior:\n",
    "        maior = k\n",
    "    pos = pos + 1\n",
    "    n = n - 1\n",
    "    print(maior)"
   ]
  },
  {
   "cell_type": "markdown",
   "id": "bdcbffb0",
   "metadata": {},
   "source": [
    "### Exercício 3: O Menor de N números\n",
    "- Leia um número N;\n",
    "- Leia N números;\n",
    "- Imprima o menor dos N números."
   ]
  },
  {
   "cell_type": "code",
   "execution_count": 3,
   "id": "64ad6f7b",
   "metadata": {},
   "outputs": [
    {
     "name": "stdout",
     "output_type": "stream",
     "text": [
      "8\n",
      "9\n",
      "9\n",
      "9\n",
      "9\n",
      "9\n"
     ]
    }
   ],
   "source": [
    "# Solução do exercício 3\n",
    "\n",
    "n = int(input(\"insira um número\"))\n",
    "inf = 1\n",
    "menor = 1\n",
    "while n > 0:\n",
    "    k = int(input(\"introduza um número (\" + str(inf) + \") entre 1 e 1000:\"))\n",
    "    if k > menor:\n",
    "        menor = k\n",
    "    \n",
    "    inf = inf + 1\n",
    "    n = n - 1\n",
    "\n",
    "\n",
    "    print(menor)"
   ]
  },
  {
   "cell_type": "markdown",
   "id": "bdcbffb0",
   "metadata": {},
   "source": [
    "### Exercício 4: A Média de N números\n",
    "- Leia um número N;\n",
    "- Leia N números;\n",
    "- Imprima a média dos N números."
   ]
  },
  {
   "cell_type": "code",
   "execution_count": 6,
   "id": "a6c32b2e",
   "metadata": {},
   "outputs": [
    {
     "name": "stdout",
     "output_type": "stream",
     "text": [
      "3.0\n"
     ]
    }
   ],
   "source": [
    "# Solução do exercício 4\n",
    "\n",
    "n = int(input(\"insira um numero\"))\n",
    "contador = n\n",
    "soma = 0\n",
    "while n > 0:\n",
    "    num = int(input(\"introduza um número\"))\n",
    "    soma = soma + num\n",
    "    n = n - 1\n",
    "\n",
    "media = soma / contador \n",
    "print(media)\n",
    "    "
   ]
  },
  {
   "cell_type": "markdown",
   "id": "46a52784",
   "metadata": {},
   "source": [
    "### Exercício 5: Potência\n",
    "- Defina uma função **pot** que recebe dois parâmetros, **a** e **b**, e retorna o resultado de **a elevado à potência de b**.\n",
    "- Use esta função para escrever no monitor as potências de 2 com expoentes de 1 a 20."
   ]
  },
  {
   "cell_type": "code",
   "execution_count": null,
   "id": "73ebf338",
   "metadata": {},
   "outputs": [],
   "source": [
    "# Solução do exercício 5\n"
   ]
  },
  {
   "cell_type": "markdown",
   "id": "a09b4add",
   "metadata": {},
   "source": [
    "### Exercício 6: Divisão inteira\n",
    "- Defina uma função **divisao** que recebe dois parâmetros **a** e **b** e retorna o resultado da **divisão inteira de a por b** (neste exercício não poderá usar as operações de divisão '/' e do resto '%'). Utilize esta função para escrever no monitor o resultado da divisão por 7 dos números de 10 a 100."
   ]
  },
  {
   "cell_type": "code",
   "execution_count": 2,
   "id": "36dbd5aa",
   "metadata": {},
   "outputs": [
    {
     "name": "stdout",
     "output_type": "stream",
     "text": [
      "10 1\n",
      "11 1\n",
      "12 1\n",
      "13 1\n",
      "14 2\n",
      "15 2\n",
      "16 2\n",
      "17 2\n",
      "18 2\n",
      "19 2\n",
      "20 2\n",
      "21 3\n",
      "22 3\n",
      "23 3\n",
      "24 3\n",
      "25 3\n",
      "26 3\n",
      "27 3\n",
      "28 4\n",
      "29 4\n",
      "30 4\n",
      "31 4\n",
      "32 4\n",
      "33 4\n",
      "34 4\n",
      "35 5\n",
      "36 5\n",
      "37 5\n",
      "38 5\n",
      "39 5\n",
      "40 5\n",
      "41 5\n",
      "42 6\n",
      "43 6\n",
      "44 6\n",
      "45 6\n",
      "46 6\n",
      "47 6\n",
      "48 6\n",
      "49 7\n",
      "50 7\n",
      "51 7\n",
      "52 7\n",
      "53 7\n",
      "54 7\n",
      "55 7\n",
      "56 8\n",
      "57 8\n",
      "58 8\n",
      "59 8\n",
      "60 8\n",
      "61 8\n",
      "62 8\n",
      "63 9\n",
      "64 9\n",
      "65 9\n",
      "66 9\n",
      "67 9\n",
      "68 9\n",
      "69 9\n",
      "70 10\n",
      "71 10\n",
      "72 10\n",
      "73 10\n",
      "74 10\n",
      "75 10\n",
      "76 10\n",
      "77 11\n",
      "78 11\n",
      "79 11\n",
      "80 11\n",
      "81 11\n",
      "82 11\n",
      "83 11\n",
      "84 12\n",
      "85 12\n",
      "86 12\n",
      "87 12\n",
      "88 12\n",
      "89 12\n",
      "90 12\n",
      "91 13\n",
      "92 13\n",
      "93 13\n",
      "94 13\n",
      "95 13\n",
      "96 13\n",
      "97 13\n",
      "98 14\n",
      "99 14\n",
      "100 14\n"
     ]
    }
   ],
   "source": [
    "# Solução do exercício 6\n",
    "def divisão(a,b):\n",
    "    res = 0\n",
    "    while a >= b:\n",
    "        res = res + 1\n",
    "        a = a - b\n",
    "    return res\n",
    "\n",
    "limite = 10\n",
    "while limite <= 100:\n",
    "    print(limite, divisão(limite, 7))\n",
    "    limite = limite + 1\n",
    "    "
   ]
  },
  {
   "cell_type": "markdown",
   "id": "0490effe",
   "metadata": {},
   "source": [
    "### Exercício 7: Resto\n",
    "- Defina uma função **resto** que recebe dois parâmetros **a** e **b** e retorna o **resto da divisão inteira de a por b** (neste exercício não poderá usar as operações de divisão '/' e do resto '%')."
   ]
  },
  {
   "cell_type": "code",
   "execution_count": 11,
   "id": "3fea0e05",
   "metadata": {},
   "outputs": [
    {
     "ename": "NameError",
     "evalue": "name 'resto_da_divisão' is not defined",
     "output_type": "error",
     "traceback": [
      "\u001b[0;31m---------------------------------------------------------------------------\u001b[0m",
      "\u001b[0;31mNameError\u001b[0m                                 Traceback (most recent call last)",
      "\u001b[1;32m/Users/carolinasilva/Downloads/AulaP3-20230925-2.ipynb Cell 16\u001b[0m line \u001b[0;36m1\n\u001b[1;32m      <a href='vscode-notebook-cell:/Users/carolinasilva/Downloads/AulaP3-20230925-2.ipynb#X21sZmlsZQ%3D%3D?line=7'>8</a>\u001b[0m         a \u001b[39m=\u001b[39m a \u001b[39m-\u001b[39m b\n\u001b[1;32m      <a href='vscode-notebook-cell:/Users/carolinasilva/Downloads/AulaP3-20230925-2.ipynb#X21sZmlsZQ%3D%3D?line=8'>9</a>\u001b[0m     \u001b[39mreturn\u001b[39;00m res\n\u001b[0;32m---> <a href='vscode-notebook-cell:/Users/carolinasilva/Downloads/AulaP3-20230925-2.ipynb#X21sZmlsZQ%3D%3D?line=9'>10</a>\u001b[0m \u001b[39mprint\u001b[39m(resto_da_divisão)\n",
      "\u001b[0;31mNameError\u001b[0m: name 'resto_da_divisão' is not defined"
     ]
    }
   ],
   "source": [
    "# Solução do exercício 7\n"
   ]
  },
  {
   "cell_type": "markdown",
   "id": "d11cdd11",
   "metadata": {},
   "source": [
    "### Exercício 8: Série numérica\n",
    "- Defina uma função **serie** que recebe três parâmetros, **base**, **salto** e **nelems**, e escreve no monitor a série;\n",
    "- Invocada com: **serie(7, 4, 5)** escreveria: 7, 11, 15, 19, 23"
   ]
  },
  {
   "cell_type": "code",
   "execution_count": 6,
   "id": "7549c7d7",
   "metadata": {},
   "outputs": [],
   "source": [
    "# Solução do exercício 8\n"
   ]
  },
  {
   "cell_type": "markdown",
   "id": "73187e87",
   "metadata": {},
   "source": [
    "### Exercício 9: Desenhar um quadrado\n",
    "- Defina uma função **quad** que recebe um parâmetro, **n**, e desenha no monitor um quadrado usando o caráter '#'."
   ]
  },
  {
   "cell_type": "code",
   "execution_count": 10,
   "id": "a31f8eaf",
   "metadata": {},
   "outputs": [
    {
     "name": "stdout",
     "output_type": "stream",
     "text": [
      "#######\n",
      "#######\n",
      "#######\n",
      "#######\n",
      "#######\n",
      "#######\n",
      "#######\n",
      "None\n"
     ]
    }
   ],
   "source": [
    "# Solução do exercício 9\n",
    "\n",
    "def quad(n):\n",
    "    l = n\n",
    "    while l > 0:\n",
    "        c = n\n",
    "        while c > 0:\n",
    "            print(\"#\", end=\"\")\n",
    "            c = c - 1 \n",
    "        print(\"\")\n",
    "        l = l - 1\n",
    "\n",
    "n1 = int(input(\"introduza um número\"))\n",
    "print(quad(n1))"
   ]
  },
  {
   "cell_type": "markdown",
   "id": "f4e2bc84",
   "metadata": {},
   "source": [
    "### Exercício 10: Índice de Massa Corporal\n",
    "- Defina uma função **imc** que recebe dois parâmetros, **peso**,**altura**, calcula o IMC corresponente e interpreta esse resultado.\n",
    "- imc(53,1.56) - Output: \"O seu índice de massa corporal é **21.78** e encontra-se na categoria **Normal**\"\n",
    "- imc(83,1.56) - Output: \"O seu índice de massa corporal é **34.11** e encontra-se na categoria **Obesidade grau I**\"\n",
    "\n",
    "Valores:\n",
    "- Menor que 18,5 - Baixo peso\n",
    "- 18,5 a 24,9 - Normal\n",
    "- 25 a 29,9\t- Excesso de peso\n",
    "- 30 a 34,9\t- Obesidade grau I\n",
    "- 35 a 39,9\t- Obesidade grau II\n",
    "- Maior que 40\t- Obesidade grau III"
   ]
  },
  {
   "cell_type": "code",
   "execution_count": 18,
   "id": "2a62004a",
   "metadata": {},
   "outputs": [],
   "source": [
    "# Solução do exercício 10"
   ]
  },
  {
   "cell_type": "markdown",
   "id": "2dd61532",
   "metadata": {},
   "source": [
    "## TPC3: Adivinha o número!?\n",
    "\n",
    "Desenvolve em Python o código necessário para o jogo do Adivinha o número. O jogo deverá ter dois modos: o computador tentar acertar no número que o jogador escolheu ou, o jogador tentar acertar no número que o computador pensou. No fim, o programa deverá indicar quantas tentativas foram realizadas para chegar ao resultado.\n",
    "Que conclusão podes tirar sobre o número de tentativas necessárias para um número entre 0 e 100? E se fosse entre 0 e 1000?"
   ]
  },
  {
   "cell_type": "code",
   "execution_count": 5,
   "id": "e966e927",
   "metadata": {},
   "outputs": [
    {
     "name": "stdout",
     "output_type": "stream",
     "text": [
      "1 tentativas.\n"
     ]
    }
   ],
   "source": [
    "#o_computador_adivinha\n",
    "\n",
    "import random\n",
    "\n",
    "modalidade=input(\"Escolha quem adivinha (computador/jogador): \")\n",
    " \n",
    "if modalidade==\"jogador\":\n",
    "    numadiv = random.randint(0,100) \n",
    "    contador = 0 \n",
    "    guess = int(input(\"O número a adivinhar é? \")) \n",
    "\n",
    "    if guess != numadiv: \n",
    "      contador = contador + 1\n",
    "\n",
    "    while guess != numadiv: \n",
    "      \n",
    "      if guess < numadiv: \n",
    "        print(\"O número que pensei é Maior do que \" + str(guess) + \".\") \n",
    "        guess = int(input(\"O número a adivinhar é? \"))\n",
    "        contador = contador + 1 \n",
    "      elif guess > numadiv: \n",
    "        print(\"O número que pensei é Menor do que \"+ str(guess) + \".\")\n",
    "        guess = int(input(\"O número a adivinhar é? \"))\n",
    "        contador = contador + 1 \n",
    "\n",
    "    print(\"Acertou!!\")\n",
    "    print(\"Conseguiu acertar em \" + str(contador) + \" tentativas .\") \n",
    "\n",
    "else:   \n",
    "    lower=0\n",
    "    upper=100\n",
    "    dif=upper-lower\n",
    "    resposta=resposta=lower+dif/2\n",
    "                \n",
    "    ans=input(\"O seu número é {}? sim/maior/menor\".format(resposta))\n",
    "    N=1\n",
    "\n",
    "    while ans!=\"sim\":\n",
    "    \n",
    "        if ans==\"maior\":\n",
    "            lower=resposta\n",
    "            dif=upper-lower\n",
    "        \n",
    "            if dif%2==0:\n",
    "                resposta=lower+dif/2\n",
    "\n",
    "            elif dif%2>0:\n",
    "                resposta=lower+dif/2+0.5\n",
    "        \n",
    "            ans=input(\"O seu número é {}? sim/maior/menor\".format(resposta))\n",
    "            N=N+1\n",
    "\n",
    "        if ans==\"menor\":\n",
    "            upper=resposta\n",
    "            dif=upper-lower\n",
    "                \n",
    "            if dif%2==0:\n",
    "                resposta=lower+dif/2\n",
    "                \n",
    "            elif dif%2>0:\n",
    "                resposta=lower+dif/2+0.5  \n",
    "            \n",
    "            ans=input(\"O seu número é {}? sim/maior/menor\".format(resposta))\n",
    "            N=N+1\n",
    "\n",
    "    print(\"{} tentativas.\".format(N))\n",
    "\n",
    "\n",
    "\n"
   ]
  }
 ],
 "metadata": {
  "kernelspec": {
   "display_name": "Python 3.9.7 64-bit",
   "language": "python",
   "name": "python3"
  },
  "language_info": {
   "codemirror_mode": {
    "name": "ipython",
    "version": 3
   },
   "file_extension": ".py",
   "mimetype": "text/x-python",
   "name": "python",
   "nbconvert_exporter": "python",
   "pygments_lexer": "ipython3",
   "version": "3.11.2"
  },
  "vscode": {
   "interpreter": {
    "hash": "916dbcbb3f70747c44a77c7bcd40155683ae19c65e1c03b4aa3499c5328201f1"
   }
  }
 },
 "nbformat": 4,
 "nbformat_minor": 5
}

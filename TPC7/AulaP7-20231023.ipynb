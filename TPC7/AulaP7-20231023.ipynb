{
 "cells": [
  {
   "cell_type": "markdown",
   "id": "1e545158",
   "metadata": {},
   "source": [
    "# Aula Prática 7 (guião)\n",
    "### Semana de 23 a 27 de Outubro de 2022\n",
    "### José Carlos Ramalho e Luís Cunha\n",
    "### Sinopsis:\n",
    "Algoritmos e modelação de problemas com armazenamento em memória secundária."
   ]
  },
  {
   "cell_type": "markdown",
   "id": "dcbc2dd4",
   "metadata": {},
   "source": [
    "### Aquecimento: Calcula quantos números inteiros entre 1 e 10000 são múltiplos de 23 e devolve esse número (um múltiplo de 23 é um número que tem 23 como divisor).\n",
    "\n",
    "```\n",
    "def multiplos23():\n",
    "    ... \n",
    "    return ... \n",
    "```"
   ]
  },
  {
   "cell_type": "code",
   "execution_count": 2,
   "id": "20aa947a",
   "metadata": {},
   "outputs": [
    {
     "name": "stdout",
     "output_type": "stream",
     "text": [
      "[23, 46, 69, 92, 115, 138, 161, 184, 207, 230, 253, 276, 299, 322, 345, 368, 391, 414, 437, 460, 483, 506, 529, 552, 575, 598, 621, 644, 667, 690, 713, 736, 759, 782, 805, 828, 851, 874, 897, 920, 943, 966, 989]\n"
     ]
    }
   ],
   "source": [
    "def multiplos23():\n",
    "    res = []\n",
    "    n = 1\n",
    "    for numero in range (1,1000):\n",
    "        if numero % 23 == 0:\n",
    "            res.append(numero)\n",
    "            n = n + 1\n",
    "    return res\n",
    "\n",
    "\n",
    "\n",
    "print(multiplos23())"
   ]
  },
  {
   "cell_type": "code",
   "execution_count": 10,
   "id": "43ed79b2",
   "metadata": {},
   "outputs": [
    {
     "name": "stdout",
     "output_type": "stream",
     "text": [
      "434\n"
     ]
    }
   ],
   "source": [
    "def multiplos23():\n",
    "    res = 0\n",
    "    n = 23\n",
    "    while n <= 10000:\n",
    "        if n % 23 == 0:\n",
    "            res = res + 1\n",
    "        n = n + 23\n",
    "\n",
    "    return res\n",
    "print(multiplos23())\n"
   ]
  },
  {
   "cell_type": "markdown",
   "id": "c59516f3",
   "metadata": {},
   "source": [
    "### Exercício 1: Considere os seguintes comentários que definem um modelo para guardar os registos de temperatura e precipitação ao longo de vários dias, materializado na variável tabMeteo1:"
   ]
  },
  {
   "cell_type": "code",
   "execution_count": 21,
   "id": "25a06fac",
   "metadata": {},
   "outputs": [],
   "source": [
    "# TabMeteo = [(Data,TempMin,TempMax,Precipitacao)]\n",
    "    # Data = (Int,Int,Int)\n",
    "    # TempMin = Float\n",
    "    # TempMax = Float\n",
    "    # Precipitacao = Float (numeros decimais)\n",
    "\n",
    "tabMeteo1 = [((2022,1,20), 2, 16, 0),((2022,1,21), 1, 13, 0.2)]"
   ]
  },
  {
   "cell_type": "markdown",
   "id": "7cdf50d5",
   "metadata": {},
   "source": [
    "### 1.a) Calcula a temperatura média de cada dia, dando como resultado uma lista de pares: [(data, temperaturaMédia)]:\n",
    "\n",
    "``` \n",
    "def medias(tabMeteo):\n",
    "    ... \n",
    "    return ... \n",
    "```"
   ]
  },
  {
   "cell_type": "code",
   "execution_count": 22,
   "id": "f8078761",
   "metadata": {},
   "outputs": [
    {
     "name": "stdout",
     "output_type": "stream",
     "text": [
      "[((2022, 1, 20), 9.0), ((2022, 1, 21), 7.0)]\n"
     ]
    }
   ],
   "source": [
    "def medias(tabMeteo):\n",
    "    res = []\n",
    "    for data,min,max,prec in tabMeteo:\n",
    "        res.append((data, (min+max)/2))\n",
    "    return res\n",
    "\n",
    "print(medias(tabMeteo1))"
   ]
  },
  {
   "cell_type": "markdown",
   "id": "3b39567d",
   "metadata": {},
   "source": [
    "### 1.b) Define uma função para guardar uma tabela meteorológica num ficheiro de texto."
   ]
  },
  {
   "cell_type": "code",
   "execution_count": 33,
   "id": "45bb1ff7",
   "metadata": {},
   "outputs": [],
   "source": [
    "def guardaTabMeteo(t, fnome):\n",
    "    fmeteo = open(fnome, \"w\")\n",
    "    for data, min, max, prec in t:\n",
    "        fmeteo.write(str(data[0]) + \"-\" + str(data[1]) + \"-\" + str(data[2]) + \"\\n\" + \"|\" + str(min) + \"|\" + str(max) + \"|\" + str(prec) + \"\\n\")\n",
    "    \n",
    "    fmeteo.close\n",
    "    return\n",
    "\n",
    "guardaTabMeteo(tabMeteo1, \"meteorologia.txt\")"
   ]
  },
  {
   "cell_type": "markdown",
   "id": "60595593",
   "metadata": {},
   "source": [
    "### 1.c) Define uma função para carregar uma tabela meteorológica de um ficheiro de texto."
   ]
  },
  {
   "cell_type": "code",
   "execution_count": 35,
   "id": "943e48f6",
   "metadata": {},
   "outputs": [
    {
     "ename": "IndexError",
     "evalue": "list index out of range",
     "output_type": "error",
     "traceback": [
      "\u001b[0;31m---------------------------------------------------------------------------\u001b[0m",
      "\u001b[0;31mIndexError\u001b[0m                                Traceback (most recent call last)",
      "\u001b[1;32m/Users/carolinasilva/Downloads/AulaP7-20231023.ipynb Cell 12\u001b[0m line \u001b[0;36m1\n\u001b[1;32m      <a href='vscode-notebook-cell:/Users/carolinasilva/Downloads/AulaP7-20231023.ipynb#X13sZmlsZQ%3D%3D?line=7'>8</a>\u001b[0m           res\u001b[39m.\u001b[39mappend((\u001b[39mint\u001b[39m(camposData[\u001b[39m0\u001b[39m]), \u001b[39mint\u001b[39m(camposData[\u001b[39m1\u001b[39m]), \u001b[39mint\u001b[39m(camposData[\u001b[39m2\u001b[39m]), \u001b[39mfloat\u001b[39m(campos[\u001b[39m1\u001b[39m]), \u001b[39mfloat\u001b[39m(campos[\u001b[39m2\u001b[39m]), \u001b[39mfloat\u001b[39m(campos[\u001b[39m3\u001b[39m])))\n\u001b[1;32m     <a href='vscode-notebook-cell:/Users/carolinasilva/Downloads/AulaP7-20231023.ipynb#X13sZmlsZQ%3D%3D?line=9'>10</a>\u001b[0m     \u001b[39mreturn\u001b[39;00m res\n\u001b[0;32m---> <a href='vscode-notebook-cell:/Users/carolinasilva/Downloads/AulaP7-20231023.ipynb#X13sZmlsZQ%3D%3D?line=11'>12</a>\u001b[0m tabMeteo2 \u001b[39m=\u001b[39m carregaTabMeteo(\u001b[39m\"\u001b[39;49m\u001b[39mmeteorologia.txt\u001b[39;49m\u001b[39m\"\u001b[39;49m)\n",
      "\u001b[1;32m/Users/carolinasilva/Downloads/AulaP7-20231023.ipynb Cell 12\u001b[0m line \u001b[0;36m8\n\u001b[1;32m      <a href='vscode-notebook-cell:/Users/carolinasilva/Downloads/AulaP7-20231023.ipynb#X13sZmlsZQ%3D%3D?line=5'>6</a>\u001b[0m       campos \u001b[39m=\u001b[39m registo\u001b[39m.\u001b[39msplit(\u001b[39m\"\u001b[39m\u001b[39m|\u001b[39m\u001b[39m\"\u001b[39m)\n\u001b[1;32m      <a href='vscode-notebook-cell:/Users/carolinasilva/Downloads/AulaP7-20231023.ipynb#X13sZmlsZQ%3D%3D?line=6'>7</a>\u001b[0m       camposData \u001b[39m=\u001b[39m campos[\u001b[39m0\u001b[39m]\u001b[39m.\u001b[39msplit(\u001b[39m\"\u001b[39m\u001b[39m-\u001b[39m\u001b[39m\"\u001b[39m)\n\u001b[0;32m----> <a href='vscode-notebook-cell:/Users/carolinasilva/Downloads/AulaP7-20231023.ipynb#X13sZmlsZQ%3D%3D?line=7'>8</a>\u001b[0m       res\u001b[39m.\u001b[39mappend((\u001b[39mint\u001b[39m(camposData[\u001b[39m0\u001b[39m]), \u001b[39mint\u001b[39m(camposData[\u001b[39m1\u001b[39m]), \u001b[39mint\u001b[39m(camposData[\u001b[39m2\u001b[39m]), \u001b[39mfloat\u001b[39m(campos[\u001b[39m1\u001b[39;49m]), \u001b[39mfloat\u001b[39m(campos[\u001b[39m2\u001b[39m]), \u001b[39mfloat\u001b[39m(campos[\u001b[39m3\u001b[39m])))\n\u001b[1;32m     <a href='vscode-notebook-cell:/Users/carolinasilva/Downloads/AulaP7-20231023.ipynb#X13sZmlsZQ%3D%3D?line=9'>10</a>\u001b[0m \u001b[39mreturn\u001b[39;00m res\n",
      "\u001b[0;31mIndexError\u001b[0m: list index out of range"
     ]
    }
   ],
   "source": [
    "def carregaTabMeteo(fnome):\n",
    "    res = []\n",
    "    fin = open(fnome)\n",
    "    for linha in fin:\n",
    "          registo = linha[:-1]\n",
    "          campos = registo.split(\"|\")\n",
    "          camposData = campos[0].split(\"-\")\n",
    "          res.append((int(camposData[0]), int(camposData[1]), int(camposData[2]), float(campos[1]), float(campos[2]), float(campos[3])))\n",
    "\n",
    "    return res\n",
    "\n",
    "tabMeteo2 = carregaTabMeteo(\"meteorologia.txt\")"
   ]
  },
  {
   "cell_type": "markdown",
   "id": "1c91a8f8",
   "metadata": {},
   "source": [
    "### 1.d) Calcula a temperatura mínima mais baixa registada na tabela, dando como resultado esse valor:\n",
    "\n",
    "``` \n",
    "def minMin(tabMeteo):\n",
    "    ... \n",
    "    return ... \n",
    "```"
   ]
  },
  {
   "cell_type": "code",
   "execution_count": 36,
   "id": "0c7ab659",
   "metadata": {},
   "outputs": [
    {
     "name": "stdout",
     "output_type": "stream",
     "text": [
      "1\n"
     ]
    }
   ],
   "source": [
    "def minMin(tabMeteo):\n",
    "    minima = tabMeteo[0][1]\n",
    "    for _, min, *_ in tabMeteo[1:]:\n",
    "        if min < minima:\n",
    "            minima = min\n",
    "\n",
    "    return minima \n",
    "\n",
    "print(minMin(tabMeteo1))"
   ]
  },
  {
   "cell_type": "markdown",
   "id": "d13f2c34",
   "metadata": {},
   "source": [
    "### 1.e) Calcula a amplitude térmica (diferença entre a temperatura máxima e a temperatura mínima) de cada dia, dando como resultado uma lista de pares: [(data, amplitude)]\n",
    "\n",
    "``` \n",
    "def amplTerm(tabMeteo):\n",
    "    ... \n",
    "    return ... \n",
    "```"
   ]
  },
  {
   "cell_type": "code",
   "execution_count": 42,
   "id": "05ae6b71",
   "metadata": {},
   "outputs": [
    {
     "name": "stdout",
     "output_type": "stream",
     "text": [
      "[((2022, 1, 20), 14), ((2022, 1, 21), 12)]\n"
     ]
    }
   ],
   "source": [
    "def amplTerm(tabMeteo):\n",
    "    res = []\n",
    "    for data,min,max, _ in tabMeteo:\n",
    "        res.append((data, (max - min)))\n",
    "    return res\n",
    "    \n",
    "\n",
    "print(amplTerm(tabMeteo1))"
   ]
  },
  {
   "cell_type": "markdown",
   "id": "364656ac",
   "metadata": {},
   "source": [
    "### 1.f) Calcula o dia em que a precipitação registada teve o seu valor máximo e indica esse valor, dando como resultado o par (data, valor):\n",
    "\n",
    "```\n",
    "def maxChuva(tabMeteo):\n",
    "    ... \n",
    "    return ... \n",
    "```"
   ]
  },
  {
   "cell_type": "code",
   "execution_count": 85,
   "id": "a7ecafee",
   "metadata": {},
   "outputs": [
    {
     "name": "stdout",
     "output_type": "stream",
     "text": [
      "((2022, 1, 21), 0.2)\n"
     ]
    }
   ],
   "source": [
    "def maxChuva(tabMeteo):\n",
    "     maxima_prec = tabMeteo[0][3]\n",
    "     max_data = tabMeteo[0][0]\n",
    "     for data, _, _, prec in tabMeteo[1:]:\n",
    "        if prec > maxima_prec:\n",
    "            maxima_prec = prec\n",
    "            max_data = data\n",
    "\n",
    "     return (max_data, maxima_prec)\n",
    "     \n",
    "\n",
    "print(maxChuva(tabMeteo1))"
   ]
  },
  {
   "cell_type": "markdown",
   "id": "f658ab20",
   "metadata": {},
   "source": [
    "### 1.g) Define uma função que recebe uma tabela meteorológica e um limite `p` e retorna uma lista de pares [(data, precipitação)] correspondente aos dias em que a precipitação foi superior a `p`.\n"
   ]
  },
  {
   "cell_type": "code",
   "execution_count": null,
   "id": "885e6bdd",
   "metadata": {},
   "outputs": [],
   "source": [
    "def diasChuvosos(tabMeteo, p):\n",
    "    \n",
    "    return "
   ]
  },
  {
   "cell_type": "markdown",
   "id": "4053559b",
   "metadata": {},
   "source": [
    "### 1.h) Define uma função que recebe uma tabela meteorológica e um limite `p` e retorna o maior número consecutivo de dias com precipitação abaixo desse limite."
   ]
  },
  {
   "cell_type": "code",
   "execution_count": 99,
   "id": "78ca2bb2",
   "metadata": {},
   "outputs": [
    {
     "name": "stdout",
     "output_type": "stream",
     "text": [
      "<function maxPeriodoCalor at 0x109a1d620>\n"
     ]
    }
   ],
   "source": [
    "def maxPeriodoCalor(tabMeteo, p):\n",
    "    res = 0\n",
    "    consec = 0\n",
    "    for data, _, _, prec in tabMeteo[0][3]:\n",
    "        if p > prec:\n",
    "            consec = consec + 1\n",
    "        else:\n",
    "            if consec > res: \n",
    "                res = consec\n",
    "\n",
    "    if consec > res:\n",
    "        res = consec\n",
    "             \n",
    "            \n",
    "    \n",
    "    return(maxPeriodoCalor)\n",
    "print(maxPeriodoCalor)\n"
   ]
  },
  {
   "cell_type": "markdown",
   "id": "6553af14",
   "metadata": {},
   "source": [
    "### 1.i) Define uma função que recebe uma tabela meteorológica e desenha os gráficos da temperatura mínima, máxima e de pluviosidade."
   ]
  },
  {
   "cell_type": "code",
   "execution_count": null,
   "id": "02d30bba",
   "metadata": {},
   "outputs": [],
   "source": [
    "def grafTabMeteo(t):\n",
    "    \n",
    "    return"
   ]
  },
  {
   "cell_type": "markdown",
   "id": "c617f4f6",
   "metadata": {},
   "source": [
    "### 1.j) Coloca tudo numa aplicação externa ao notebook. "
   ]
  },
  {
   "cell_type": "markdown",
   "id": "4193a91b",
   "metadata": {},
   "source": [
    "### TPC7: Construir uma aplicação para manipular polinómios\n",
    "\n",
    "Depois da aula da semana passada, já tens algumas funções desenvolvidas que te irão ajudar a construir a aplicação que se descreve a seguir.\n",
    "\n",
    "* Aquecimento: Instancia os seguintes exemplos num ficheiro de texto com o formato definido na última aula\n",
    "    - `x^7 - 3.7x^4 + 5x^3 - 88`\n",
    "    - `2x^2 + 17`\n",
    "    - `7x^4 + 6x^3 - x^2 + 43`\n",
    "    - `x^4`\n",
    "    - `x^2`\n",
    "    - `x^3`\n",
    "\n",
    "* Desenvolve as seguintes funcionalidades que não foram trabalhadas na aula:\n",
    "    1. Define uma função que dado um polinómio calcula a sua derivada;\n",
    "    2. Define uma função que recebe dois polinómios `p1` e `p2` e calcula um novo polinómio correspondente à soma de `p1` e `p2`;\n",
    "    3. Define uma função que recebe um polinómio e o desenha num gráfico.\n",
    "\n",
    "* Num ficheiro Python, cria uma aplicação para manipular polinómios com as seguintes operações:\n",
    "    1. Criar um polinómio interativamente;\n",
    "    2. Ler uma lista de polinómios de um ficheiro;\n",
    "    3. Listar polinómios: mostra numa tabela os polinómios carregados em memória, adicionando um número de ordem a cada um;\n",
    "    4. Calcular o valor de um polinómio num ponto (usa o número de ordem para referenciar o polinómio);\n",
    "    5. Listar polinómios com grau: à listagem anterior, acrescenta mais uma coluna com o grau;\n",
    "    6. Maior grau: mostra o polinómio de maior grau e indica o seu número de ordem;\n",
    "    7. Derivada: mostra uma tabela com os polinómios e as respetivas derivadas;\n",
    "    8. Somar dois polinómios: indicando os seus números de ordem;\n",
    "    9. Gerar um gráfico para o polinómio;\n",
    "    10. Gravar num ficheiro os polinómios em memória;\n",
    "    0. Sair da aplicação\n"
   ]
  },
  {
   "cell_type": "code",
   "execution_count": 1,
   "id": "f43f8018",
   "metadata": {},
   "outputs": [
    {
     "name": "stdout",
     "output_type": "stream",
     "text": [
      "\n",
      "Escolha uma opção:\n",
      "1 -> Criar polinómio\n",
      "2 -> Ler polinómios de um arquivo\n",
      "3 -> Mostrar polinómios em memória\n",
      "4 -> Calcular valor de um polinómio\n",
      "5 -> Mostrar polinomios com grau\n",
      "6 -> Mostrar polinómio de maior grau\n",
      "8 -> Somar dois polinómios\n",
      "9 -> Gerar gráfico de um polinómio\n",
      "10 -> Gravar polinómios em um arquivo\n",
      "0 -> Sair\n",
      "\n",
      "Escolha uma opção:\n",
      "1 -> Criar polinómio\n",
      "2 -> Ler polinómios de um arquivo\n",
      "3 -> Mostrar polinómios em memória\n",
      "4 -> Calcular valor de um polinómio\n",
      "5 -> Mostrar polinomios com grau\n",
      "6 -> Mostrar polinómio de maior grau\n",
      "8 -> Somar dois polinómios\n",
      "9 -> Gerar gráfico de um polinómio\n",
      "10 -> Gravar polinómios em um arquivo\n",
      "0 -> Sair\n"
     ]
    }
   ],
   "source": [
    "import matplotlib.pyplot as plt\n",
    "\n",
    "polinomios = []\n",
    "ordem = 1\n",
    "\n",
    "def criar_polinomio():\n",
    "    global ordem\n",
    "    coeficientes = input(\"Digite os coeficientes do polinómio separados por espaço: \").split()\n",
    "    coeficientes = [float(coef) for coef in coeficientes]\n",
    "    polinomio = coeficientes\n",
    "    polinomios.append((ordem, polinomio))\n",
    "    ordem += 1\n",
    "\n",
    "def ler_polinomios():\n",
    "    arquivo = input(\"Digite o nome do arquivo de polinómios: \")\n",
    "    with open(arquivo, 'r') as file:\n",
    "        for line in file:\n",
    "            coeficientes = [float(coef) for coef in line.strip().split()]\n",
    "            polinomios.append((ordem, coeficientes))\n",
    "            ordem += 1\n",
    "\n",
    "def mostrar_polinomios():\n",
    "    print(\"Número de ordem\\tpolinómio\")\n",
    "    for ordem, polinomio in polinomios:\n",
    "        print(f\"{ordem}\\t{polinomio}\")\n",
    "\n",
    "def calcular_polinomio():\n",
    "    num_ordem = int(input(\"Digite o número de ordem do polinómio a ser calculado: \"))\n",
    "    x = float(input(\"Digite o valor de x: \"))\n",
    "    if num_ordem <= len(polinomios):\n",
    "        ordem, coeficientes = polinomios[num_ordem - 1]\n",
    "        resultado = sum(c * (x ** i) for i, c in enumerate(coeficientes))\n",
    "        print(f\"Resultado: {resultado}\")\n",
    "    else:\n",
    "        print(\"Número de ordem inválido.\")\n",
    "\n",
    "def mostrar_polinomios_com_grau():\n",
    "    print(\"Número de ordem\\tpolinómio\\tGrau\")\n",
    "    for ordem, coeficientes in polinomios:\n",
    "        grau = len(coeficientes) - 1\n",
    "        print(f\"{ordem}\\t{coeficientes}\\t{grau}\")\n",
    "\n",
    "def polinomio_maior_grau():\n",
    "    if polinomios:\n",
    "        ordem, coeficientes = max(polinomios, key=lambda x: len(x[1]) - 1)\n",
    "        grau = len(coeficientes) - 1\n",
    "        print(f\"Polinómio de maior grau (Número de Ordem {ordem}): {coeficientes}, Grau: {grau}\")\n",
    "    else:\n",
    "        print(\"Nenhum polinómio carregado.\")\n",
    "\n",
    "def somar_polinomios():\n",
    "    num_ordem1 = int(input(\"Digite o número de ordem do primeiro polinómio: \"))\n",
    "    num_ordem2 = int(input(\"Digite o número de ordem do segundo polinómio: \"))\n",
    "    if 1 <= num_ordem1 <= len(polinomios) and 1 <= num_ordem2 <= len(polinomios):\n",
    "        _, coeficientes1 = polinomios[num_ordem1 - 1]\n",
    "        _, coeficientes2 = polinomios[num_ordem2 - 1]\n",
    "        coeficientes_soma = [c1 + c2 for c1, c2 in zip(coeficientes1, coeficientes2)]\n",
    "        polinomios.append((ordem, coeficientes_soma))\n",
    "        ordem += 1\n",
    "        print(f\"Resultado da soma (Número de Ordem {ordem}): {coeficientes_soma}\")\n",
    "    else:\n",
    "        print(\"Número de ordem inválido.\")\n",
    "\n",
    "def gerar_grafico():\n",
    "    num_ordem = int(input(\"Digite o número de ordem do polinómio para gerar o gráfico: \"))\n",
    "    if 1 <= num_ordem <= len(polinomios):\n",
    "        _, coeficientes = polinomios[num_ordem - 1]\n",
    "        x = [i for i in range(-10, 11)]\n",
    "        y = [sum(c * (xi ** i) for i, c in enumerate(coeficientes)) for xi in x]\n",
    "        plt.plot(x, y)\n",
    "        plt.xlabel(\"x\")\n",
    "        plt.ylabel(\"f(x)\")\n",
    "        plt.title(f\"Gráfico do polinómio (Número de Ordem {num_ordem})\")\n",
    "        plt.grid()\n",
    "        plt.show()\n",
    "    else:\n",
    "        print(\"Número de ordem inválido.\")\n",
    "\n",
    "def gravar_polinomios():\n",
    "    arquivo = input(\"Digite o nome do arquivo de saída: \")\n",
    "    with open(arquivo, 'w') as file:\n",
    "        for _, coeficientes in polinomios:\n",
    "            coef_str = \" \".join(map(str, coeficientes))\n",
    "            file.write(coef_str + \"\\n\")\n",
    "\n",
    "while True:\n",
    "    print(\"\\nEscolha uma opção:\")\n",
    "    print(\"1 -> Criar polinómio\")\n",
    "    print(\"2 -> Ler polinómios de um arquivo\")\n",
    "    print(\"3 -> Mostrar polinómios em memória\")\n",
    "    print(\"4 -> Calcular valor de um polinómio\")\n",
    "    print(\"5 -> Mostrar polinomios com grau\")\n",
    "    print(\"6 -> Mostrar polinómio de maior grau\")\n",
    "    print(\"8 -> Somar dois polinómios\")\n",
    "    print(\"9 -> Gerar gráfico de um polinómio\")\n",
    "    print(\"10 -> Gravar polinómios em um arquivo\")\n",
    "    print(\"0 -> Sair\")\n",
    "\n",
    "    opcao = input(\"Opção: \")\n",
    "\n",
    "    if opcao == '1':\n",
    "        criar_polinomio()\n",
    "    elif opcao == '2':\n",
    "        ler_polinomios()\n",
    "    elif opcao == '3':\n",
    "        mostrar_polinomios()\n",
    "    elif opcao == '4':\n",
    "        calcular_polinomio()\n",
    "    elif opcao == '5':\n",
    "        mostrar_polinomios_com_grau()\n",
    "    elif opcao == '6':\n",
    "        polinomio_maior_grau()\n",
    "    elif opcao == '8':\n",
    "        somar_polinomios()\n",
    "    elif opcao == '9':\n",
    "        gerar_grafico()\n",
    "    elif opcao == '10':\n",
    "        gravar_polinomios()\n",
    "    elif opcao == '0':\n",
    "        break\n",
    "    else:\n",
    "        print(\"Opção inválida. Por favor, escolha uma opção válida.\")\n",
    "\n"
   ]
  }
 ],
 "metadata": {
  "kernelspec": {
   "display_name": "Python 3.9.1 64-bit",
   "language": "python",
   "name": "python3"
  },
  "language_info": {
   "codemirror_mode": {
    "name": "ipython",
    "version": 3
   },
   "file_extension": ".py",
   "mimetype": "text/x-python",
   "name": "python",
   "nbconvert_exporter": "python",
   "pygments_lexer": "ipython3",
   "version": "3.11.2"
  },
  "vscode": {
   "interpreter": {
    "hash": "aee8b7b246df8f9039afb4144a1f6fd8d2ca17a180786b69acc140d282b71a49"
   }
  }
 },
 "nbformat": 4,
 "nbformat_minor": 5
}
